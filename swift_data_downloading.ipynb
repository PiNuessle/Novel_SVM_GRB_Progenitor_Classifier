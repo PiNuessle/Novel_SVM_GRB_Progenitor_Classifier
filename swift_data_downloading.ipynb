{
 "cells": [
  {
   "cell_type": "markdown",
   "id": "b1cc9623",
   "metadata": {},
   "source": [
    "# The `swifttools.ukssdc.data.GRB` module\n",
    "\n",
    "## Summary\n",
    "\n",
    "This module provides direct access to the [GRB products created at the UKSSDC](https://www.swift.ac.uk/xrt_products), as well as the means to manipulate them (e.g. rebinning light curves). Being part of the [`swifttools.ukssdc.data` module](../data.ipynb) it is designed for use where you already know which GRB(s) you want to get data for. If you don't know that, for example you want to select them based on their characteristics, you will need the [GRB query module](../query/GRB.ipynb).\n",
    "\n",
    "**Tip** You can read this page straight through, and you may want to, but there is a lot in it. So if you want a full overview, read through. If you want to know how to do do something specific, I'd advise you to read the introduction, and then use the [contents links](#page-contents) to jump straight to the section you are interested in.\n",
    "\n",
    "You will notice that the functions in this module all begin with `get` (whereas the parent module used `download`). As you'll realise pretty quickly, this is because this module lets you do more than just download datafiles, you can instead pull the data into variables for example.\n",
    "\n",
    "An important point to note is that this documentation is about the API, not the GRB products. So below we will talk about things like WT mode systematic errors, and unreliable light curve data, without any real explanation; you can read the documentation for the products if you don't understand.\n",
    "\n",
    "OK, first let's import the module, using a short form to save our fingers:"
   ]
  },
  {
   "cell_type": "code",
   "execution_count": 1,
   "id": "1fb32781",
   "metadata": {},
   "outputs": [],
   "source": [
    "import swifttools.ukssdc.data.GRB as udg"
   ]
  },
  {
   "cell_type": "markdown",
   "id": "55fdc59a",
   "metadata": {},
   "source": [
    "One could basically loop through the below code with the appropriate Swift name for every GRB. I just typed them in and checked if they had data in the interval, and if it was only one point, if that wasn't the first or last point of the lightcurve."
   ]
  },
  {
   "cell_type": "code",
   "execution_count": 218,
   "id": "26fa5f0d",
   "metadata": {},
   "outputs": [
    {
     "name": "stdout",
     "output_type": "stream",
     "text": [
      "20    22293.110\n",
      "21    28269.988\n",
      "22    35210.239\n",
      "23    47892.576\n",
      "Name: Time, dtype: float64\n"
     ]
    },
    {
     "data": {
      "image/png": "[encoded data removed]",
      "text/plain": [
       "<Figure size 640x480 with 1 Axes>"
      ]
     },
     "metadata": {},
     "output_type": "display_data"
    }
   ],
   "source": [
    "import swifttools.ukssdc.data.GRB as udg\n",
    "import matplotlib.pyplot as plt\n",
    "import numpy as np\n",
    "import pandas as pd\n",
    "data = udg.getBurstAnalyser(GRBName=\"GRB 080727C\",\n",
    "                                returnData=True,\n",
    "                                saveData=False,\n",
    "                           instruments=('XRT', 'UVOT'))\n",
    "# print(list(data['XRT'].keys()))\n",
    "# Flux_dens_pos=pd.DataFrame(np.concatenate((data['XRT']['Density_WT_incbad']['FluxPos'],\\\n",
    "#                         data['XRT']['Density_PC_incbad']['FluxPos'])))\n",
    "# Flux_dens_neg=pd.DataFrame(np.concatenate((data['XRT']['Density_WT_incbad']['FluxNeg'],\\\n",
    "#                         data['XRT']['Density_PC_incbad']['FluxNeg'])))\n",
    "# time_pos=pd.DataFrame(np.concatenate((data['XRT']['Density_WT_incbad']['TimePos'],\\\n",
    "#                         data['XRT']['Density_PC_incbad']['TimePos'])))\n",
    "# time_neg=pd.DataFrame(np.concatenate((data['XRT']['Density_WT_incbad']['TimeNeg'],\\\n",
    "#                         data['XRT']['Density_PC_incbad']['TimeNeg'])))\n",
    "# time=np.concatenate((data['XRT']['Density_WT_incbad']['Time'], \\\n",
    "#                 data['XRT']['Density_PC_incbad']['Time']))\n",
    "# flux=np.concatenate((data['XRT']['Density_WT_incbad']['Flux'], \\\n",
    "#                 data['XRT']['Density_PC_incbad']['Flux']))\n",
    "# flux_error=np.transpose(np.column_stack((Flux_dens_pos.fillna(0),\\\n",
    "#         np.abs(Flux_dens_neg.fillna(0)))))\n",
    "# time_error=np.transpose(np.column_stack((time_pos.fillna(0),\\\n",
    "#         np.abs(time_neg.fillna(0)))))\n",
    "Flux_dens_pos=data['XRT']['Density_PC_incbad']['FluxPos']\n",
    "Flux_dens_neg=data['XRT']['Density_PC_incbad']['FluxNeg']\n",
    "time_pos=data['XRT']['Density_PC_incbad']['TimePos']\n",
    "time_neg=data['XRT']['Density_PC_incbad']['TimeNeg']\n",
    "time=data['XRT']['Density_PC_incbad']['Time']\n",
    "flux=data['XRT']['Density_PC_incbad']['Flux']\n",
    "flux_error=np.transpose(np.column_stack((Flux_dens_pos.fillna(0),\\\n",
    "        np.abs(Flux_dens_neg.fillna(0)))))\n",
    "time_error=np.transpose(np.column_stack((time_pos.fillna(0),\\\n",
    "        np.abs(time_neg.fillna(0)))))\n",
    "# Flux_dens_pos=data['XRT']['Density_WT_incbad']['FluxPos']\n",
    "# Flux_dens_neg=data['XRT']['Density_WT_incbad']['FluxNeg']\n",
    "# time_pos=data['XRT']['Density_WT_incbad']['TimePos']\n",
    "# time_neg=data['XRT']['Density_WT_incbad']['TimeNeg']\n",
    "# time=data['XRT']['Density_WT_incbad']['Time']\n",
    "# flux=data['XRT']['Density_WT_incbad']['Flux']\n",
    "# flux_error=np.transpose(np.column_stack((Flux_dens_pos.fillna(0),\\\n",
    "#         np.abs(Flux_dens_neg.fillna(0)))))\n",
    "# time_error=np.transpose(np.column_stack((time_pos.fillna(0),\\\n",
    "#         np.abs(time_neg.fillna(0)))))\n",
    "# z=2.3739\n",
    "# timeshift=200*(1+z)\n",
    "# # timeshift=2000\n",
    "# print(timeshift)\n",
    "# start_time=np.where(time >= timeshift)[0][0]\n",
    "# print(time[start_time])\n",
    "timeshift=10**(-0.301)*36600\n",
    "# timeshift=0\n",
    "start_time=(np.where(time >= timeshift)[0])[0]\n",
    "timeclaw=10**(0.301)*36600\n",
    "stop_time=max(np.where(time<= timeclaw)[0])\n",
    "coefficients = np.polyfit(np.log10(time[start_time:stop_time]), \\\n",
    "                          np.log10(flux[start_time:stop_time]), 1)\n",
    "polynomial = np.poly1d(coefficients)\n",
    "log10_y_fit = polynomial(np.log10(time[start_time:stop_time]))\n",
    "plt.errorbar(x=time, \\\n",
    "             y=flux, \\\n",
    "            xerr=time_error, yerr=flux_error, ls='none')\n",
    "plt.plot(time[start_time:stop_time], 10**log10_y_fit, '--')\n",
    "plt.xscale('log')\n",
    "plt.yscale('log')\n",
    "plt.xlabel(r'Time (s)', \\\n",
    "           color='0.8', size=14)\n",
    "plt.ylabel(r'${Flux}_{XRT}$ (0.3-10 keV) $(erg*cm^{-2}*s^{-1})$', \\\n",
    "           color='0.8', size=14)\n",
    "plt.tick_params(axis='x', colors='0.8')\n",
    "plt.tick_params(axis='y', colors='0.8')\n",
    "# print(polynomial[1])\n",
    "print(time[start_time:stop_time])"
   ]
  }
 ],
 "metadata": {
  "kernelspec": {
   "display_name": "Python 3 (ipykernel)",
   "language": "python",
   "name": "python3"
  },
  "language_info": {
   "codemirror_mode": {
    "name": "ipython",
    "version": 3
   },
   "file_extension": ".py",
   "mimetype": "text/x-python",
   "name": "python",
   "nbconvert_exporter": "python",
   "pygments_lexer": "ipython3",
   "version": "3.8.8"
  },
  "vscode": {
   "interpreter": {
    "hash": "8d1c31afbb796ffe8c3fd5080738519a9b666e3617906fb7228ad5805a80d686"
   }
  }
 },
 "nbformat": 4,
 "nbformat_minor": 5
}
